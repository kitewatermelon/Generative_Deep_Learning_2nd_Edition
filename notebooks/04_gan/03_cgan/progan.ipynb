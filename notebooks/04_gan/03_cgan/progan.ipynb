{
  "cells": [
    {
      "cell_type": "markdown",
      "id": "b076bd1a-b236-4fbc-953d-8295b25122ae",
      "metadata": {
        "id": "b076bd1a-b236-4fbc-953d-8295b25122ae"
      },
      "source": [
        "# 🤪 조건부 WGAN-GP - CelebA 얼굴 데이터셋"
      ]
    },
    {
      "cell_type": "markdown",
      "id": "9ce3d97c",
      "metadata": {
        "id": "9ce3d97c"
      },
      "source": [
        "<table align=\"left\">\n",
        "  <td>\n",
        "    <a href=\"https://colab.research.google.com/github/rickiepark/Generative_Deep_Learning_2nd_Edition/blob/main/notebooks/04_gan/03_cgan/cgan.ipynb\" target=\"_parent\"><img src=\"https://colab.research.google.com/assets/colab-badge.svg\" alt=\"Open In Colab\"/></a>\n",
        "  </td>\n",
        "</table>"
      ]
    },
    {
      "cell_type": "code",
      "execution_count": null,
      "id": "61859152",
      "metadata": {
        "colab": {
          "base_uri": "https://localhost:8080/"
        },
        "id": "61859152",
        "outputId": "21e93514-d3d1-481e-9ea0-622a9a9dd9c9"
      },
      "outputs": [],
      "source": [
        "import sys\n",
        "\n",
        "# 코랩의 경우 깃허브 저장소로부터 utils.py를 다운로드 합니다.\n",
        "if 'google.colab' in sys.modules:\n",
        "    !wget https://raw.githubusercontent.com/rickiepark/Generative_Deep_Learning_2nd_Edition/main/notebooks/utils.py\n",
        "    !mkdir -p notebooks\n",
        "    !mv utils.py notebooks"
      ]
    },
    {
      "cell_type": "markdown",
      "id": "9235cbd1-f136-411c-88d9-f69f270c0b96",
      "metadata": {
        "id": "9235cbd1-f136-411c-88d9-f69f270c0b96"
      },
      "source": [
        "이 노트북에서는 CelebA 얼굴 데이터셋에서 조건부 GAN을 훈련합니다."
      ]
    },
    {
      "cell_type": "markdown",
      "id": "71cc98c1-83bf-4e5c-88d2-b3c55002dc65",
      "metadata": {
        "id": "71cc98c1-83bf-4e5c-88d2-b3c55002dc65"
      },
      "source": [
        "이 코드는 케라스 웹사이트에 있는 Sayak Paul이 만든 훌륭한 [CGAN 튜토리얼](https://keras.io/examples/generative/conditional_gan/)에서 가져온 것입니다."
      ]
    },
    {
      "cell_type": "code",
      "execution_count": null,
      "id": "84acc7be-6764-4668-b2bb-178f63deeed3",
      "metadata": {
        "id": "84acc7be-6764-4668-b2bb-178f63deeed3"
      },
      "outputs": [],
      "source": [
        "import numpy as np\n",
        "import pandas as pd\n",
        "\n",
        "import tensorflow as tf\n",
        "from tensorflow.keras import (\n",
        "    layers,\n",
        "    models,\n",
        "    callbacks,\n",
        "    utils,\n",
        "    metrics,\n",
        "    optimizers,\n",
        ")\n",
        "\n",
        "from utils import display, sample_batch"
      ]
    },
    {
      "cell_type": "markdown",
      "id": "339e6268-ebd7-4feb-86db-1fe7abccdbe5",
      "metadata": {
        "id": "339e6268-ebd7-4feb-86db-1fe7abccdbe5"
      },
      "source": [
        "## 0. 파라미터 <a name=\"parameters\"></a>"
      ]
    },
    {
      "cell_type": "code",
      "execution_count": null,
      "id": "1b2ee6ce-129f-4833-b0c5-fa567381c4e0",
      "metadata": {
        "id": "1b2ee6ce-129f-4833-b0c5-fa567381c4e0"
      },
      "outputs": [],
      "source": [
        "IMAGE_SIZE = 64\n",
        "CHANNELS = 3\n",
        "CLASSES = 2\n",
        "BATCH_SIZE = 128\n",
        "Z_DIM = 32\n",
        "LEARNING_RATE = 0.00005\n",
        "ADAM_BETA_1 = 0.5\n",
        "ADAM_BETA_2 = 0.999\n",
        "EPOCHS = 20\n",
        "CRITIC_STEPS = 3\n",
        "GP_WEIGHT = 10.0\n",
        "LOAD_MODEL = False\n",
        "ADAM_BETA_1 = 0.5\n",
        "ADAM_BETA_2 = 0.9\n",
        "LABEL = \"Blond_Hair\""
      ]
    },
    {
      "cell_type": "markdown",
      "id": "b7716fac-0010-49b0-b98e-53be2259edde",
      "metadata": {
        "id": "b7716fac-0010-49b0-b98e-53be2259edde"
      },
      "source": [
        "## 1. 데이터 준비 <a name=\"prepare\"></a>"
      ]
    },
    {
      "cell_type": "code",
      "execution_count": null,
      "id": "33a701db",
      "metadata": {
        "colab": {
          "base_uri": "https://localhost:8080/"
        },
        "id": "33a701db",
        "outputId": "be74676a-7f2a-4981-89b1-4842972ac5e2"
      },
      "outputs": [],
      "source": [
        "# 코랩일 경우 노트북에서 celeba 데이터셋을 받습니다.\n",
        "if 'google.colab' in sys.modules:\n",
        "    # # 캐글-->Setttings-->API-->Create New Token에서\n",
        "    # # kaggle.json 파일을 만들어 코랩에 업로드하세요.\n",
        "    # from google.colab import files\n",
        "    # files.upload()\n",
        "    # !mkdir ~/.kaggle\n",
        "    # !cp kaggle.json ~/.kaggle/\n",
        "    # !chmod 600 ~/.kaggle/kaggle.json\n",
        "    # # celeba 데이터셋을 다운로드하고 압축을 해제합니다.\n",
        "    # !kaggle datasets download -d jessicali9530/celeba-dataset\n",
        "    # 캐글에서 다운로드가 안 될 경우 역자의 드라이브에서 다운로드할 수 있습니다.\n",
        "    import gdown\n",
        "    gdown.download(id='15gJhiDBkltMQz3T97xG-fO4gXTKAWkSB')\n",
        "    !unzip -q celeba-dataset.zip\n",
        "    # output 디렉토리를 만듭니다.\n",
        "    !mkdir output"
      ]
    },
    {
      "cell_type": "code",
      "execution_count": null,
      "id": "7d8d9aad-59c1-46bf-9c37-d73bf90cc1bb",
      "metadata": {
        "colab": {
          "base_uri": "https://localhost:8080/",
          "height": 452
        },
        "id": "7d8d9aad-59c1-46bf-9c37-d73bf90cc1bb",
        "outputId": "718d580a-a2e2-4617-f277-dfb89ae61950"
      },
      "outputs": [],
      "source": [
        "# 레이블 데이터셋 로드\n",
        "attributes = pd.read_csv(\"./list_attr_celeba.csv\")\n",
        "print(attributes.columns)\n",
        "attributes.head()"
      ]
    },
    {
      "cell_type": "code",
      "execution_count": null,
      "id": "4d8876d4-a6a6-4a52-9b1e-cd985d43df20",
      "metadata": {
        "id": "4d8876d4-a6a6-4a52-9b1e-cd985d43df20"
      },
      "outputs": [],
      "source": [
        "# 데이터 로드\n",
        "labels = attributes[LABEL].tolist()\n",
        "int_labels = [x if x == 1 else 0 for x in labels]"
      ]
    },
    {
      "cell_type": "code",
      "execution_count": null,
      "id": "4d38a9ab-cbbe-49b7-924d-98e5e3fb6c1f",
      "metadata": {
        "colab": {
          "base_uri": "https://localhost:8080/"
        },
        "id": "4d38a9ab-cbbe-49b7-924d-98e5e3fb6c1f",
        "outputId": "544ba3a2-f6ca-4dc2-e6cc-588db5b8cef3"
      },
      "outputs": [],
      "source": [
        "train_data = utils.image_dataset_from_directory(\n",
        "    \"./img_align_celeba\",\n",
        "    labels=int_labels,\n",
        "    color_mode=\"rgb\",\n",
        "    image_size=(IMAGE_SIZE, IMAGE_SIZE),\n",
        "    batch_size=BATCH_SIZE,\n",
        "    shuffle=True,\n",
        "    seed=42,\n",
        "    interpolation=\"bilinear\",\n",
        ")"
      ]
    },
    {
      "cell_type": "code",
      "execution_count": null,
      "id": "ebae2f0d-59fd-4796-841f-7213eae638de",
      "metadata": {
        "id": "ebae2f0d-59fd-4796-841f-7213eae638de"
      },
      "outputs": [],
      "source": [
        "# 데이터 전처리\n",
        "def preprocess(img):\n",
        "    \"\"\"\n",
        "    이미지 정규화\n",
        "    \"\"\"\n",
        "    img = (tf.cast(img, \"float32\") - 127.5) / 127.5\n",
        "    return img\n",
        "\n",
        "\n",
        "train = train_data.map(\n",
        "    lambda x, y: (preprocess(x), tf.one_hot(y, depth=CLASSES))\n",
        ")"
      ]
    },
    {
      "cell_type": "code",
      "execution_count": null,
      "id": "fa53709f-7f3f-483b-9db8-2e5f9b9942c2",
      "metadata": {
        "id": "fa53709f-7f3f-483b-9db8-2e5f9b9942c2"
      },
      "outputs": [],
      "source": [
        "# 훈련 세트에 있는 몇 개의 샘플 출력하기\n",
        "train_sample = sample_batch(train)"
      ]
    },
    {
      "cell_type": "code",
      "execution_count": null,
      "id": "b86c15ef-82b2-4a75-99f7-2d8810440403",
      "metadata": {
        "colab": {
          "base_uri": "https://localhost:8080/",
          "height": 128
        },
        "id": "b86c15ef-82b2-4a75-99f7-2d8810440403",
        "outputId": "6787118d-baaa-46cd-8e30-e9270225301a"
      },
      "outputs": [],
      "source": [
        "display(images=train_sample, cmap=None)"
      ]
    },
    {
      "cell_type": "markdown",
      "id": "aff50401-3abe-4c10-bba8-b35bc13ad7d5",
      "metadata": {
        "id": "aff50401-3abe-4c10-bba8-b35bc13ad7d5",
        "tags": []
      },
      "source": [
        "## 2. GAN 구축 <a name=\"build\"></a>"
      ]
    },
    {
      "cell_type": "code",
      "execution_count": null,
      "id": "371eb69d-e534-4666-a412-b5b6fe24689a",
      "metadata": {
        "colab": {
          "base_uri": "https://localhost:8080/"
        },
        "id": "371eb69d-e534-4666-a412-b5b6fe24689a",
        "outputId": "33075d56-5e85-4e96-b385-e002be505635"
      },
      "outputs": [],
      "source": [
        "critic_input = layers.Input(shape=(IMAGE_SIZE, IMAGE_SIZE, CHANNELS))\n",
        "label_input = layers.Input(shape=(IMAGE_SIZE, IMAGE_SIZE, CLASSES))\n",
        "x = layers.Concatenate(axis=-1)([critic_input, label_input])\n",
        "x = layers.Conv2D(64, kernel_size=4, strides=2, padding=\"same\")(x)\n",
        "x = layers.LeakyReLU(0.2)(x)\n",
        "x = layers.Conv2D(128, kernel_size=4, strides=2, padding=\"same\")(x)\n",
        "x = layers.LeakyReLU()(x)\n",
        "x = layers.Dropout(0.3)(x)\n",
        "x = layers.Conv2D(128, kernel_size=4, strides=2, padding=\"same\")(x)\n",
        "x = layers.LeakyReLU(0.2)(x)\n",
        "x = layers.Dropout(0.3)(x)\n",
        "x = layers.Conv2D(128, kernel_size=4, strides=2, padding=\"same\")(x)\n",
        "x = layers.LeakyReLU(0.2)(x)\n",
        "x = layers.Dropout(0.3)(x)\n",
        "x = layers.Conv2D(1, kernel_size=4, strides=1, padding=\"valid\")(x)\n",
        "critic_output = layers.Flatten()(x)\n",
        "\n",
        "critic = models.Model([critic_input, label_input], critic_output)\n",
        "critic.summary()"
      ]
    },
    {
      "cell_type": "code",
      "execution_count": null,
      "id": "086e2584-c60d-4990-89f4-2092c44e023e",
      "metadata": {
        "colab": {
          "base_uri": "https://localhost:8080/"
        },
        "id": "086e2584-c60d-4990-89f4-2092c44e023e",
        "outputId": "9a3b6432-032c-44f3-ffe8-cff3f6f86c53"
      },
      "outputs": [],
      "source": [
        "generator_input = layers.Input(shape=(Z_DIM,))\n",
        "label_input = layers.Input(shape=(CLASSES,))\n",
        "x = layers.Concatenate(axis=-1)([generator_input, label_input])\n",
        "x = layers.Reshape((1, 1, Z_DIM + CLASSES))(x)\n",
        "x = layers.Conv2DTranspose(\n",
        "    128, kernel_size=4, strides=1, padding=\"valid\", use_bias=False\n",
        ")(x)\n",
        "x = layers.BatchNormalization(momentum=0.9)(x)\n",
        "x = layers.LeakyReLU(0.2)(x)\n",
        "x = layers.Conv2DTranspose(\n",
        "    128, kernel_size=4, strides=2, padding=\"same\", use_bias=False\n",
        ")(x)\n",
        "x = layers.BatchNormalization(momentum=0.9)(x)\n",
        "x = layers.LeakyReLU(0.2)(x)\n",
        "x = layers.Conv2DTranspose(\n",
        "    128, kernel_size=4, strides=2, padding=\"same\", use_bias=False\n",
        ")(x)\n",
        "x = layers.BatchNormalization(momentum=0.9)(x)\n",
        "x = layers.LeakyReLU(0.2)(x)\n",
        "x = layers.Conv2DTranspose(\n",
        "    64, kernel_size=4, strides=2, padding=\"same\", use_bias=False\n",
        ")(x)\n",
        "x = layers.BatchNormalization(momentum=0.9)(x)\n",
        "x = layers.LeakyReLU(0.2)(x)\n",
        "generator_output = layers.Conv2DTranspose(\n",
        "    CHANNELS, kernel_size=4, strides=2, padding=\"same\", activation=\"tanh\"\n",
        ")(x)\n",
        "generator = models.Model([generator_input, label_input], generator_output)\n",
        "generator.summary()"
      ]
    },
    {
      "cell_type": "code",
      "execution_count": null,
      "id": "88010f20-fb61-498c-b2b2-dac96f6c03b3",
      "metadata": {
        "id": "88010f20-fb61-498c-b2b2-dac96f6c03b3"
      },
      "outputs": [],
      "source": [
        "class ConditionalWGAN(models.Model):\n",
        "    def __init__(self, critic, generator, latent_dim, critic_steps, gp_weight):\n",
        "        super(ConditionalWGAN, self).__init__()\n",
        "        self.critic = critic\n",
        "        self.generator = generator\n",
        "        self.latent_dim = latent_dim\n",
        "        self.critic_steps = critic_steps\n",
        "        self.gp_weight = gp_weight\n",
        "\n",
        "    def compile(self, c_optimizer, g_optimizer):\n",
        "        super(ConditionalWGAN, self).compile(run_eagerly=True)\n",
        "        self.c_optimizer = c_optimizer\n",
        "        self.g_optimizer = g_optimizer\n",
        "        self.c_wass_loss_metric = metrics.Mean(name=\"c_wass_loss\")\n",
        "        self.c_gp_metric = metrics.Mean(name=\"c_gp\")\n",
        "        self.c_loss_metric = metrics.Mean(name=\"c_loss\")\n",
        "        self.g_loss_metric = metrics.Mean(name=\"g_loss\")\n",
        "\n",
        "    @property\n",
        "    def metrics(self):\n",
        "        return [\n",
        "            self.c_loss_metric,\n",
        "            self.c_wass_loss_metric,\n",
        "            self.c_gp_metric,\n",
        "            self.g_loss_metric,\n",
        "        ]\n",
        "\n",
        "    def gradient_penalty(\n",
        "        self, batch_size, real_images, fake_images, image_one_hot_labels\n",
        "    ):\n",
        "        alpha = tf.random.normal([batch_size, 1, 1, 1], 0.0, 1.0)\n",
        "        diff = fake_images - real_images\n",
        "        interpolated = real_images + alpha * diff\n",
        "\n",
        "        with tf.GradientTape() as gp_tape:\n",
        "            gp_tape.watch(interpolated)\n",
        "            pred = self.critic(\n",
        "                [interpolated, image_one_hot_labels], training=True\n",
        "            )\n",
        "\n",
        "        grads = gp_tape.gradient(pred, [interpolated])[0]\n",
        "        norm = tf.sqrt(tf.reduce_sum(tf.square(grads), axis=[1, 2, 3]))\n",
        "        gp = tf.reduce_mean((norm - 1.0) ** 2)\n",
        "        return gp\n",
        "\n",
        "    def train_step(self, data):\n",
        "        real_images, one_hot_labels = data\n",
        "\n",
        "        image_one_hot_labels = one_hot_labels[:, None, None, :]\n",
        "        image_one_hot_labels = tf.repeat(\n",
        "            image_one_hot_labels, repeats=IMAGE_SIZE, axis=1\n",
        "        )\n",
        "        image_one_hot_labels = tf.repeat(\n",
        "            image_one_hot_labels, repeats=IMAGE_SIZE, axis=2\n",
        "        )\n",
        "\n",
        "        batch_size = tf.shape(real_images)[0]\n",
        "\n",
        "        for i in range(self.critic_steps):\n",
        "            random_latent_vectors = tf.random.normal(\n",
        "                shape=(batch_size, self.latent_dim)\n",
        "            )\n",
        "\n",
        "            with tf.GradientTape() as tape:\n",
        "                fake_images = self.generator(\n",
        "                    [random_latent_vectors, one_hot_labels], training=True\n",
        "                )\n",
        "\n",
        "                fake_predictions = self.critic(\n",
        "                    [fake_images, image_one_hot_labels], training=True\n",
        "                )\n",
        "                real_predictions = self.critic(\n",
        "                    [real_images, image_one_hot_labels], training=True\n",
        "                )\n",
        "\n",
        "                c_wass_loss = tf.reduce_mean(fake_predictions) - tf.reduce_mean(\n",
        "                    real_predictions\n",
        "                )\n",
        "                c_gp = self.gradient_penalty(\n",
        "                    batch_size, real_images, fake_images, image_one_hot_labels\n",
        "                )\n",
        "                c_loss = c_wass_loss + c_gp * self.gp_weight\n",
        "\n",
        "            c_gradient = tape.gradient(c_loss, self.critic.trainable_variables)\n",
        "            self.c_optimizer.apply_gradients(\n",
        "                zip(c_gradient, self.critic.trainable_variables)\n",
        "            )\n",
        "\n",
        "        random_latent_vectors = tf.random.normal(\n",
        "            shape=(batch_size, self.latent_dim)\n",
        "        )\n",
        "\n",
        "        with tf.GradientTape() as tape:\n",
        "            fake_images = self.generator(\n",
        "                [random_latent_vectors, one_hot_labels], training=True\n",
        "            )\n",
        "            fake_predictions = self.critic(\n",
        "                [fake_images, image_one_hot_labels], training=True\n",
        "            )\n",
        "            g_loss = -tf.reduce_mean(fake_predictions)\n",
        "\n",
        "        gen_gradient = tape.gradient(g_loss, self.generator.trainable_variables)\n",
        "        self.g_optimizer.apply_gradients(\n",
        "            zip(gen_gradient, self.generator.trainable_variables)\n",
        "        )\n",
        "\n",
        "        self.c_loss_metric.update_state(c_loss)\n",
        "        self.c_wass_loss_metric.update_state(c_wass_loss)\n",
        "        self.c_gp_metric.update_state(c_gp)\n",
        "        self.g_loss_metric.update_state(g_loss)\n",
        "\n",
        "        return {m.name: m.result() for m in self.metrics}"
      ]
    },
    {
      "cell_type": "code",
      "execution_count": null,
      "id": "edf2f892-9209-42ee-b251-1e7604df5335",
      "metadata": {
        "id": "edf2f892-9209-42ee-b251-1e7604df5335"
      },
      "outputs": [],
      "source": [
        "# GAN 만들기\n",
        "cgan = ConditionalWGAN(\n",
        "    critic=critic,\n",
        "    generator=generator,\n",
        "    latent_dim=Z_DIM,\n",
        "    critic_steps=CRITIC_STEPS,\n",
        "    gp_weight=GP_WEIGHT,\n",
        ")"
      ]
    },
    {
      "cell_type": "code",
      "execution_count": null,
      "id": "b2f48907-fa82-41b5-8caa-813b2f232c79",
      "metadata": {
        "id": "b2f48907-fa82-41b5-8caa-813b2f232c79"
      },
      "outputs": [],
      "source": [
        "if LOAD_MODEL:\n",
        "    cgan.load_weights(\"./checkpoint/checkpoint.ckpt\")"
      ]
    },
    {
      "cell_type": "markdown",
      "id": "35b14665-4359-447b-be58-3fd58ba69084",
      "metadata": {
        "id": "35b14665-4359-447b-be58-3fd58ba69084"
      },
      "source": [
        "## 3. GAN 훈련 <a name=\"train\"></a>"
      ]
    },
    {
      "cell_type": "code",
      "execution_count": null,
      "id": "b429fdad-ea9c-45a2-a556-eb950d793824",
      "metadata": {
        "id": "b429fdad-ea9c-45a2-a556-eb950d793824"
      },
      "outputs": [],
      "source": [
        "# GAN 컴파일\n",
        "cgan.compile(\n",
        "    c_optimizer=optimizers.Adam(\n",
        "        learning_rate=LEARNING_RATE, beta_1=ADAM_BETA_1, beta_2=ADAM_BETA_2\n",
        "    ),\n",
        "    g_optimizer=optimizers.Adam(\n",
        "        learning_rate=LEARNING_RATE, beta_1=ADAM_BETA_1, beta_2=ADAM_BETA_2\n",
        "    ),\n",
        ")"
      ]
    },
    {
      "cell_type": "code",
      "execution_count": null,
      "id": "c525e44b-b3bb-489c-9d35-fcfe3e714e6a",
      "metadata": {
        "id": "c525e44b-b3bb-489c-9d35-fcfe3e714e6a"
      },
      "outputs": [],
      "source": [
        "# 모델 저장 체크포인트 만들기\n",
        "model_checkpoint_callback = callbacks.ModelCheckpoint(\n",
        "    filepath=\"./checkpoint/checkpoint.ckpt\",\n",
        "    save_weights_only=True,\n",
        "    save_freq=\"epoch\",\n",
        "    verbose=0,\n",
        ")\n",
        "\n",
        "tensorboard_callback = callbacks.TensorBoard(log_dir=\"./logs\")\n",
        "\n",
        "\n",
        "class ImageGenerator(callbacks.Callback):\n",
        "    def __init__(self, num_img, latent_dim):\n",
        "        self.num_img = num_img\n",
        "        self.latent_dim = latent_dim\n",
        "\n",
        "    def on_epoch_end(self, epoch, logs=None):\n",
        "        random_latent_vectors = tf.random.normal(\n",
        "            shape=(self.num_img, self.latent_dim)\n",
        "        )\n",
        "        # 0 레이블\n",
        "        zero_label = np.repeat([[1, 0]], self.num_img, axis=0)\n",
        "        generated_images = self.model.generator(\n",
        "            [random_latent_vectors, zero_label]\n",
        "        )\n",
        "        generated_images = generated_images * 127.5 + 127.5\n",
        "        generated_images = generated_images.numpy()\n",
        "        # if epoch % 100 == 0: # 출력 횟수를 줄이기 위해\n",
        "        display(\n",
        "            generated_images,\n",
        "            save_to=\"./output/generated_img_%03d_label_0.png\" % (epoch),\n",
        "            cmap=None,\n",
        "            epoch=epoch\n",
        "        )\n",
        "\n",
        "        # 1 레이블\n",
        "        one_label = np.repeat([[0, 1]], self.num_img, axis=0)\n",
        "        generated_images = self.model.generator(\n",
        "            [random_latent_vectors, one_label]\n",
        "        )\n",
        "        generated_images = generated_images * 127.5 + 127.5\n",
        "        generated_images = generated_images.numpy()\n",
        "        # if epoch % 100 == 0: # 출력 횟수를 줄이기 위해\n",
        "        display(\n",
        "            generated_images,\n",
        "            save_to=\"./output/generated_img_%03d_label_1.png\" % (epoch),\n",
        "            cmap=None,\n",
        "            epoch=epoch\n",
        "        )"
      ]
    },
    {
      "cell_type": "code",
      "execution_count": null,
      "id": "b3c497b7-fa40-48df-b2bf-541239cc9400",
      "metadata": {
        "colab": {
          "base_uri": "https://localhost:8080/",
          "height": 1000
        },
        "id": "b3c497b7-fa40-48df-b2bf-541239cc9400",
        "outputId": "6f79cd9b-ea06-4660-86d0-beb6967fcc89",
        "tags": []
      },
      "outputs": [],
      "source": [
        "history = cgan.fit(\n",
        "    train,\n",
        "    epochs=EPOCHS * 100,\n",
        "    steps_per_epoch=1,\n",
        "    callbacks=[\n",
        "        model_checkpoint_callback,\n",
        "        tensorboard_callback,\n",
        "        ImageGenerator(num_img=10, latent_dim=Z_DIM),\n",
        "    ],\n",
        ")"
      ]
    },
    {
      "cell_type": "code",
      "execution_count": null,
      "id": "028138af-d3a5-4134-b980-d3a8a703e70f",
      "metadata": {
        "colab": {
          "base_uri": "https://localhost:8080/"
        },
        "id": "028138af-d3a5-4134-b980-d3a8a703e70f",
        "outputId": "cea9bd68-fcd1-4da9-af74-fff161ec53ab"
      },
      "outputs": [],
      "source": [
        "# 최종 모델 저장\n",
        "generator.save(\"./models/generator\")\n",
        "critic.save(\"./models/critic\")"
      ]
    },
    {
      "cell_type": "markdown",
      "id": "0765b66b-d12c-42c4-90fa-2ff851a9b3f5",
      "metadata": {
        "id": "0765b66b-d12c-42c4-90fa-2ff851a9b3f5"
      },
      "source": [
        "## 이미지 생성"
      ]
    },
    {
      "cell_type": "code",
      "execution_count": null,
      "id": "86576e84-afc4-443a-b68d-9a5ee13ce730",
      "metadata": {
        "colab": {
          "base_uri": "https://localhost:8080/",
          "height": 146
        },
        "id": "86576e84-afc4-443a-b68d-9a5ee13ce730",
        "outputId": "a76ae07e-4364-43df-fc9a-d64e4a3cccd3"
      },
      "outputs": [],
      "source": [
        "# 0 레이블\n",
        "z_sample = np.random.normal(size=(10, Z_DIM))\n",
        "class_label = np.repeat([[1, 0]], 10, axis=0)\n",
        "imgs = cgan.generator.predict([z_sample, class_label])\n",
        "display(imgs, cmap=None)"
      ]
    },
    {
      "cell_type": "code",
      "execution_count": null,
      "id": "032fca60-2e05-4e8e-8258-9b5fa176d098",
      "metadata": {
        "colab": {
          "base_uri": "https://localhost:8080/",
          "height": 146
        },
        "id": "032fca60-2e05-4e8e-8258-9b5fa176d098",
        "outputId": "58caeb78-4b37-45a2-9998-c00c0ed8de39"
      },
      "outputs": [],
      "source": [
        "# 1 레이블\n",
        "z_sample = np.random.normal(size=(10, Z_DIM))\n",
        "class_label = np.repeat([[0, 1]], 10, axis=0)\n",
        "imgs = cgan.generator.predict([z_sample, class_label])\n",
        "display(imgs, cmap=None)"
      ]
    },
    {
      "cell_type": "code",
      "execution_count": null,
      "id": "beec5f6a",
      "metadata": {},
      "outputs": [],
      "source": [
        "import imageio\n",
        "import glob\n",
        "\n",
        "def make_gif(label):\n",
        "    anim_file = f'dcgan_{label}.gif'\n",
        "    with imageio.get_writer(anim_file, mode='I') as writer:\n",
        "        filenames = glob.glob(f'./output/generated_img_*_label_{label}.png')\n",
        "        filenames = sorted(filenames)\n",
        "        last = -1\n",
        "        for i, filename in enumerate(filenames):\n",
        "            frame = 2 * (i ** 0.5)\n",
        "            if round(frame) > round(last):\n",
        "                last = frame\n",
        "            else:\n",
        "                continue\n",
        "            image = imageio.imread(filename)\n",
        "            writer.append_data(image)\n",
        "        image = imageio.imread(filenames[-1])\n",
        "        writer.append_data(image)\n",
        "\n",
        "    import IPython\n",
        "    if IPython.version_info > (6,2,0,''):\n",
        "        IPython.display.Image(filename=anim_file)\n",
        "    try:\n",
        "        from google.colab import files\n",
        "    except ImportError:\n",
        "        pass\n",
        "    else:\n",
        "        files.download(anim_file)\n",
        "\n",
        "# label_0 GIF 생성\n",
        "make_gif(0)\n",
        "\n",
        "# label_1 GIF 생성\n",
        "make_gif(1)\n"
      ]
    },
    {
      "cell_type": "code",
      "execution_count": null,
      "id": "135cf25e",
      "metadata": {},
      "outputs": [],
      "source": []
    }
  ],
  "metadata": {
    "accelerator": "GPU",
    "colab": {
      "gpuType": "V100",
      "provenance": []
    },
    "kernelspec": {
      "display_name": "Python 3",
      "name": "python3"
    },
    "language_info": {
      "codemirror_mode": {
        "name": "ipython",
        "version": 3
      },
      "file_extension": ".py",
      "mimetype": "text/x-python",
      "name": "python",
      "nbconvert_exporter": "python",
      "pygments_lexer": "ipython3",
      "version": "3.10.0"
    }
  },
  "nbformat": 4,
  "nbformat_minor": 5
}
